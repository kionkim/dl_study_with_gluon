{
 "cells": [
  {
   "cell_type": "code",
   "execution_count": 1,
   "metadata": {
    "collapsed": true
   },
   "outputs": [],
   "source": [
    "from __future__ import print_function\n",
    "import mxnet as mx\n",
    "import numpy as np\n",
    "from mxnet import nd, autograd, gluon"
   ]
  },
  {
   "cell_type": "code",
   "execution_count": 2,
   "metadata": {
    "collapsed": true
   },
   "outputs": [],
   "source": [
    "##load MNIST data\n",
    "num_inputs = 784\n",
    "num_outputs = 10\n",
    "batch_size = 64\n",
    "num_examples = 60000\n",
    "def transform(data, label):\n",
    "    return data.astype(np.float32)/255, label.astype(np.float32)\n",
    "train_data = gluon.data.DataLoader(mx.gluon.data.vision.MNIST(train=True, transform=transform),\n",
    "                                      batch_size, shuffle=True)\n",
    "test_data = gluon.data.DataLoader(mx.gluon.data.vision.MNIST(train=False, transform=transform),\n",
    "                                     batch_size, shuffle=False)"
   ]
  },
  {
   "cell_type": "code",
   "execution_count": 51,
   "metadata": {
    "collapsed": true
   },
   "outputs": [],
   "source": [
    "##Define cpu or gpu index\n",
    "data_ctx = mx.cpu(0)\n",
    "model_ctx = mx.gpu(0)\n",
    "model_seq_ctx = mx.gpu(1)"
   ]
  },
  {
   "cell_type": "markdown",
   "metadata": {},
   "source": [
    "### 1. Define as gluon(gloun.Block)"
   ]
  },
  {
   "cell_type": "code",
   "execution_count": 4,
   "metadata": {
    "collapsed": true
   },
   "outputs": [],
   "source": [
    "class MLP(gluon.Block):\n",
    "    def __init__(self,**kwargs):\n",
    "        super(MLP,self).__init__(**kwargs)\n",
    "        with self.name_scope():\n",
    "            self.dense0 = gluon.nn.Dense(128,activation=\"relu\")\n",
    "            self.dense1 = gluon.nn.Dense(64,activation=\"relu\")\n",
    "            self.dense2 = gluon.nn.Dense(10)\n",
    "    \n",
    "    def forward(self,x):\n",
    "        x = nd.relu(self.dense0(x))\n",
    "        x = nd.relu(self.dense1(x))\n",
    "        x = self.dense2(x)\n",
    "        return x"
   ]
  },
  {
   "cell_type": "code",
   "execution_count": 5,
   "metadata": {},
   "outputs": [
    {
     "data": {
      "text/plain": [
       "<bound method Block.collect_params of MLP(\n",
       "  (dense0): Dense(None -> 128, Activation(relu))\n",
       "  (dense1): Dense(None -> 64, Activation(relu))\n",
       "  (dense2): Dense(None -> 10, linear)\n",
       ")>"
      ]
     },
     "execution_count": 5,
     "metadata": {},
     "output_type": "execute_result"
    }
   ],
   "source": [
    "net = MLP()\n",
    "net.collect_params"
   ]
  },
  {
   "cell_type": "code",
   "execution_count": 34,
   "metadata": {},
   "outputs": [
    {
     "data": {
      "text/plain": [
       "(128, 784)"
      ]
     },
     "execution_count": 34,
     "metadata": {},
     "output_type": "execute_result"
    }
   ],
   "source": [
    "net.dense0.weight.data().shape"
   ]
  },
  {
   "cell_type": "code",
   "execution_count": 6,
   "metadata": {
    "collapsed": true
   },
   "outputs": [],
   "source": [
    "## initilize param\n",
    "net.collect_params().initialize(mx.init.Normal(),ctx=model_ctx)"
   ]
  },
  {
   "cell_type": "code",
   "execution_count": 27,
   "metadata": {
    "collapsed": true
   },
   "outputs": [],
   "source": [
    "##Test the model\n",
    "data = nd.ones((1,784))\n",
    "data.shape\n",
    "out = net(data.as_in_context(model_ctx)) ## setting the device info"
   ]
  },
  {
   "cell_type": "code",
   "execution_count": 28,
   "metadata": {},
   "outputs": [
    {
     "data": {
      "text/plain": [
       "(1, 10)"
      ]
     },
     "execution_count": 28,
     "metadata": {},
     "output_type": "execute_result"
    }
   ],
   "source": [
    "out.shape"
   ]
  },
  {
   "cell_type": "code",
   "execution_count": 8,
   "metadata": {
    "collapsed": true
   },
   "outputs": [],
   "source": [
    "##Define softmax cross-entropy loss\n",
    "softmax_cross_entropy = gluon.loss.SoftmaxCrossEntropyLoss()"
   ]
  },
  {
   "cell_type": "code",
   "execution_count": 40,
   "metadata": {
    "collapsed": true
   },
   "outputs": [],
   "source": [
    "#Define optimizer\n",
    "trainer = gluon.Trainer(net.collect_params(),optimizer='sgd',optimizer_params={'learning_rate':0.01})"
   ]
  },
  {
   "cell_type": "code",
   "execution_count": 69,
   "metadata": {
    "collapsed": true
   },
   "outputs": [],
   "source": [
    "##Define Evaluation metric\n",
    "def evaluate_accuracy(data_iterator, net,gpu_init):\n",
    "    acc = mx.metric.Accuracy()\n",
    "    for i, (data,label) in enumerate(data_iterator):\n",
    "        data = data.as_in_context(gpu_init).reshape((-1,784))\n",
    "        label = label.as_in_context(gpu_init)\n",
    "        output = net(data)\n",
    "        predictions = nd.argmax(output,axis=1)\n",
    "        acc.update(preds=predictions, labels=label)\n",
    "    return acc.get()[1]"
   ]
  },
  {
   "cell_type": "code",
   "execution_count": 41,
   "metadata": {},
   "outputs": [
    {
     "name": "stdout",
     "output_type": "stream",
     "text": [
      "Epoch 0. Loss: 2.3015143542, Train_acc 0.112366666667, Test_acc 0.1135\n",
      "Epoch 1. Loss: 2.29972713038, Train_acc 0.112366666667, Test_acc 0.1135\n",
      "Epoch 2. Loss: 2.29102112134, Train_acc 0.215416666667, Test_acc 0.2157\n",
      "Epoch 3. Loss: 2.03063560117, Train_acc 0.448716666667, Test_acc 0.4529\n",
      "Epoch 4. Loss: 1.05836072785, Train_acc 0.76565, Test_acc 0.7726\n",
      "Epoch 5. Loss: 0.652320930799, Train_acc 0.828583333333, Test_acc 0.8332\n",
      "Epoch 6. Loss: 0.529780993462, Train_acc 0.85845, Test_acc 0.8609\n",
      "Epoch 7. Loss: 0.463093396139, Train_acc 0.8752, Test_acc 0.8767\n",
      "Epoch 8. Loss: 0.420938806287, Train_acc 0.8874, Test_acc 0.8895\n",
      "Epoch 9. Loss: 0.387553001785, Train_acc 0.89545, Test_acc 0.8954\n"
     ]
    }
   ],
   "source": [
    "epochs = 10\n",
    "smoothing_constant = .01\n",
    "\n",
    "for e in range(epochs):\n",
    "    cumulative_loss = 0\n",
    "    for i, (data, label) in enumerate(train_data):\n",
    "        data = data.as_in_context(model_ctx).reshape((-1, 784))\n",
    "        label = label.as_in_context(model_ctx)\n",
    "        with autograd.record():\n",
    "            output = net(data)\n",
    "            loss = softmax_cross_entropy(output, label)\n",
    "        loss.backward()\n",
    "        trainer.step(data.shape[0])\n",
    "        cumulative_loss += nd.sum(loss).asscalar()\n",
    "\n",
    "\n",
    "    test_accuracy = evaluate_accuracy(test_data, net,model_ctx)\n",
    "    train_accuracy = evaluate_accuracy(train_data, net,model_ctx)\n",
    "    print(\"Epoch %s. Loss: %s, Train_acc %s, Test_acc %s\" %\n",
    "          (e, cumulative_loss/num_examples, train_accuracy, test_accuracy))"
   ]
  },
  {
   "cell_type": "markdown",
   "metadata": {},
   "source": [
    "### 2. sequential approach (gluon.nn.Sequential)"
   ]
  },
  {
   "cell_type": "code",
   "execution_count": 62,
   "metadata": {
    "collapsed": true
   },
   "outputs": [],
   "source": [
    "net_seq = gluon.nn.Sequential()\n",
    "with net_seq.name_scope():\n",
    "    net_seq.add(gluon.nn.Dense(128, activation=\"relu\"))\n",
    "    net_seq.add(gluon.nn.Dense(64, activation=\"relu\"))\n",
    "    net_seq.add(gluon.nn.Dense(10))"
   ]
  },
  {
   "cell_type": "code",
   "execution_count": 63,
   "metadata": {},
   "outputs": [
    {
     "data": {
      "text/plain": [
       "Sequential(\n",
       "  (0): Dense(None -> 128, Activation(relu))\n",
       "  (1): Dense(None -> 64, Activation(relu))\n",
       "  (2): Dense(None -> 10, linear)\n",
       ")"
      ]
     },
     "execution_count": 63,
     "metadata": {},
     "output_type": "execute_result"
    }
   ],
   "source": [
    "net_seq"
   ]
  },
  {
   "cell_type": "code",
   "execution_count": 64,
   "metadata": {},
   "outputs": [],
   "source": [
    "## initilize param\n",
    "net_seq.collect_params().initialize(mx.init.Normal(),ctx=model_seq_ctx)"
   ]
  },
  {
   "cell_type": "code",
   "execution_count": 65,
   "metadata": {
    "collapsed": true
   },
   "outputs": [],
   "source": [
    "#Define optimizer\n",
    "trainer_seq = gluon.Trainer(net_seq.collect_params(),optimizer='sgd',optimizer_params={'learning_rate':0.01})"
   ]
  },
  {
   "cell_type": "code",
   "execution_count": 70,
   "metadata": {},
   "outputs": [
    {
     "name": "stdout",
     "output_type": "stream",
     "text": [
      "Epoch 0. Loss: 2.28616122996, Train_acc 0.208333333333, Test_acc 0.2091\n",
      "Epoch 1. Loss: 1.97638381081, Train_acc 0.464833333333, Test_acc 0.4672\n",
      "Epoch 2. Loss: 1.15075605542, Train_acc 0.755916666667, Test_acc 0.759\n",
      "Epoch 3. Loss: 0.693354644616, Train_acc 0.809016666667, Test_acc 0.8178\n",
      "Epoch 4. Loss: 0.594338152409, Train_acc 0.834083333333, Test_acc 0.8376\n",
      "Epoch 5. Loss: 0.541639323203, Train_acc 0.851333333333, Test_acc 0.8521\n",
      "Epoch 6. Loss: 0.494264999533, Train_acc 0.866066666667, Test_acc 0.8642\n",
      "Epoch 7. Loss: 0.442140702486, Train_acc 0.881433333333, Test_acc 0.8784\n",
      "Epoch 8. Loss: 0.394981248665, Train_acc 0.892766666667, Test_acc 0.8912\n",
      "Epoch 9. Loss: 0.358843960444, Train_acc 0.89995, Test_acc 0.8986\n"
     ]
    }
   ],
   "source": [
    "epochs = 10\n",
    "smoothing_constant = .01\n",
    "\n",
    "for e in range(epochs):\n",
    "    cumulative_loss = 0\n",
    "    for i, (data, label) in enumerate(train_data):\n",
    "        data = data.as_in_context(model_seq_ctx).reshape((-1, 784))\n",
    "        label = label.as_in_context(model_seq_ctx)\n",
    "        with autograd.record():\n",
    "            output = net_seq(data)\n",
    "            loss = softmax_cross_entropy(output, label)\n",
    "        loss.backward()\n",
    "        trainer_seq.step(data.shape[0])\n",
    "        cumulative_loss += nd.sum(loss).asscalar()\n",
    "\n",
    "\n",
    "    test_accuracy = evaluate_accuracy(test_data, net_seq,model_seq_ctx)\n",
    "    train_accuracy = evaluate_accuracy(train_data, net_seq,model_seq_ctx)\n",
    "    print(\"Epoch %s. Loss: %s, Train_acc %s, Test_acc %s\" %\n",
    "          (e, cumulative_loss/num_examples, train_accuracy, test_accuracy))"
   ]
  },
  {
   "cell_type": "code",
   "execution_count": null,
   "metadata": {
    "collapsed": true
   },
   "outputs": [],
   "source": []
  }
 ],
 "metadata": {
  "kernelspec": {
   "display_name": "Python 3",
   "language": "python",
   "name": "python3"
  },
  "language_info": {
   "codemirror_mode": {
    "name": "ipython",
    "version": 3
   },
   "file_extension": ".py",
   "mimetype": "text/x-python",
   "name": "python",
   "nbconvert_exporter": "python",
   "pygments_lexer": "ipython3",
   "version": "3.6.3"
  }
 },
 "nbformat": 4,
 "nbformat_minor": 2
}
